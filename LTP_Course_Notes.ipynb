{
 "cells": [
  {
   "cell_type": "markdown",
   "metadata": {},
   "source": [
    "## Chapter One Notebook"
   ]
  },
  {
   "cell_type": "markdown",
   "metadata": {
    "collapsed": true
   },
   "source": [
    "Use idle to do python math\n",
    "\n",
    "$idle&"
   ]
  },
  {
   "cell_type": "markdown",
   "metadata": {},
   "source": [
    "python operators:\n",
    "\n",
    "| Operators | Symbol |\n",
    "| --- | --- |\n",
    "|addition | + |\n",
    "|subtraction | - |\n",
    "|multiplication | * |\n",
    "|exponentiation | \\*\\* |\n",
    "|division | / |\n",
    "| integer division | // |\n",
    "| mod / remainder | % |\n",
    "\n",
    "\n",
    "Python Types: \n",
    "\n",
    "| Types | description | example |\n",
    "| --- | --- | --- |\n",
    "|int|integer|-325, 2, 18|\n",
    "|float|floating point number|2.6, 3.0, 3.14159|\n",
    "|||\n",
    "\n",
    "Python Operator Precedence\n",
    "\n",
    "|operator | precedence |\n",
    "|---|---|\n",
    "|\\*\\*|highest|\n",
    "|- (negation)||\n",
    "|\\* / // %|in order of appearance|\n",
    "|+ -|lowest (in order of appearance|\n"
   ]
  },
  {
   "cell_type": "markdown",
   "metadata": {},
   "source": [
    "Imagine a mixed number, e.g. 5/3 = 1 (2/3)\n",
    "\n",
    "Regular division:"
   ]
  },
  {
   "cell_type": "code",
   "execution_count": 28,
   "metadata": {},
   "outputs": [
    {
     "data": {
      "text/plain": [
       "1.6666666666666667"
      ]
     },
     "execution_count": 28,
     "metadata": {},
     "output_type": "execute_result"
    }
   ],
   "source": [
    "5/3"
   ]
  },
  {
   "cell_type": "markdown",
   "metadata": {},
   "source": [
    "Integer division will give the whole number part (aka floor), so we get the result \"1\""
   ]
  },
  {
   "cell_type": "code",
   "execution_count": 29,
   "metadata": {},
   "outputs": [
    {
     "data": {
      "text/plain": [
       "1"
      ]
     },
     "execution_count": 29,
     "metadata": {},
     "output_type": "execute_result"
    }
   ],
   "source": [
    "5//3"
   ]
  },
  {
   "cell_type": "markdown",
   "metadata": {},
   "source": [
    "Modulus will give the NUMERATOR of the remainder so we get \"2\""
   ]
  },
  {
   "cell_type": "code",
   "execution_count": 30,
   "metadata": {},
   "outputs": [
    {
     "data": {
      "text/plain": [
       "2"
      ]
     },
     "execution_count": 30,
     "metadata": {},
     "output_type": "execute_result"
    }
   ],
   "source": [
    "5%3"
   ]
  },
  {
   "cell_type": "markdown",
   "metadata": {},
   "source": [
    "# Python Errors\n",
    "\n",
    "Syntax errors"
   ]
  },
  {
   "cell_type": "code",
   "execution_count": 31,
   "metadata": {},
   "outputs": [
    {
     "ename": "SyntaxError",
     "evalue": "invalid syntax (<ipython-input-31-0a1363fec7b0>, line 1)",
     "output_type": "error",
     "traceback": [
      "\u001b[0;36m  File \u001b[0;32m\"<ipython-input-31-0a1363fec7b0>\"\u001b[0;36m, line \u001b[0;32m1\u001b[0m\n\u001b[0;31m    3 +\u001b[0m\n\u001b[0m       ^\u001b[0m\n\u001b[0;31mSyntaxError\u001b[0m\u001b[0;31m:\u001b[0m invalid syntax\n"
     ]
    }
   ],
   "source": [
    "3 +"
   ]
  },
  {
   "cell_type": "code",
   "execution_count": 32,
   "metadata": {},
   "outputs": [
    {
     "ename": "SyntaxError",
     "evalue": "invalid syntax (<ipython-input-32-9307070f7f02>, line 1)",
     "output_type": "error",
     "traceback": [
      "\u001b[0;36m  File \u001b[0;32m\"<ipython-input-32-9307070f7f02>\"\u001b[0;36m, line \u001b[0;32m1\u001b[0m\n\u001b[0;31m    **\u001b[0m\n\u001b[0m     ^\u001b[0m\n\u001b[0;31mSyntaxError\u001b[0m\u001b[0;31m:\u001b[0m invalid syntax\n"
     ]
    }
   ],
   "source": [
    "**"
   ]
  },
  {
   "cell_type": "code",
   "execution_count": null,
   "metadata": {},
   "outputs": [],
   "source": [
    "4 + 5) * 3"
   ]
  },
  {
   "cell_type": "code",
   "execution_count": null,
   "metadata": {
    "collapsed": true
   },
   "outputs": [],
   "source": [
    "(4+5*3))"
   ]
  },
  {
   "cell_type": "markdown",
   "metadata": {},
   "source": [
    "Multiline Instructions (missing closing paren"
   ]
  },
  {
   "cell_type": "code",
   "execution_count": null,
   "metadata": {},
   "outputs": [],
   "source": [
    "(4+5*3"
   ]
  },
  {
   "cell_type": "code",
   "execution_count": null,
   "metadata": {},
   "outputs": [],
   "source": []
  },
  {
   "cell_type": "markdown",
   "metadata": {},
   "source": [
    "Semantics Error"
   ]
  },
  {
   "cell_type": "code",
   "execution_count": null,
   "metadata": {},
   "outputs": [],
   "source": [
    "4 / 0"
   ]
  },
  {
   "cell_type": "markdown",
   "metadata": {},
   "source": [
    "# Variables\n",
    "\n",
    "**Computer Memory:**\n",
    "\n",
    "Python automatically uses pointers for all variables.\n",
    "\n",
    "A value has a memory address.  \n",
    "A variable contains a memory address.  \n",
    "A variable refers to a value.  \n",
    "A variable points to a value.  \n",
    "\n",
    "Example: Value 8.5 has memory address id34.  \n",
    "Variable shoe_size contains memory address id34.  \n",
    "The value of shoe_size is 8.5.  \n",
    "shoe_size refers to value 8.5.  \n",
    "shoe_size points to value 8.5.  "
   ]
  },
  {
   "cell_type": "code",
   "execution_count": 33,
   "metadata": {},
   "outputs": [
    {
     "data": {
      "text/plain": [
       "120.0"
      ]
     },
     "execution_count": 33,
     "metadata": {},
     "output_type": "execute_result"
    }
   ],
   "source": [
    "base = 20\n",
    "height = 12\n",
    "area = base*height / 2\n",
    "\n",
    "area\n"
   ]
  },
  {
   "cell_type": "markdown",
   "metadata": {},
   "source": [
    "suppose memory address id3 contains the value 20...\n",
    "\n",
    "base contains \"id3\"  \n",
    "base *points* to \"id3\"\n",
    "\n",
    "when a value is no longer used, does the memory address it's stored at become released for use?"
   ]
  },
  {
   "cell_type": "markdown",
   "metadata": {},
   "source": [
    "**Variable naming rules**\n",
    "\n",
    "* alphanumeric, underscore characters only\n",
    "* case sensitive\n",
    "* cannot start with a number\n",
    "\n",
    "| Valid | invalid|\n",
    "|--|--|\n",
    "|steve6|6steve|\n",
    "|Steve6|steve'6|\n",
    "|steve_6|steve#6|\n",
    "|_STEVE6||"
   ]
  },
  {
   "cell_type": "markdown",
   "metadata": {},
   "source": [
    "# Built-in Functions\n",
    "\n",
    "Function call:\n",
    "\n",
    "*function_name(arguments)*\n",
    "\n",
    "find out more with\n",
    "dir(\\_\\_builtins\\_\\_)\n",
    "help(funcname)"
   ]
  },
  {
   "cell_type": "code",
   "execution_count": 34,
   "metadata": {},
   "outputs": [
    {
     "data": {
      "text/plain": [
       "465"
      ]
     },
     "execution_count": 34,
     "metadata": {},
     "output_type": "execute_result"
    }
   ],
   "source": [
    "max(36.6,23.4)\n",
    "max(1,2,3,4)\n",
    "max(465,342.157)"
   ]
  },
  {
   "cell_type": "code",
   "execution_count": 35,
   "metadata": {},
   "outputs": [
    {
     "name": "stdout",
     "output_type": "stream",
     "text": [
      "Help on built-in function abs in module builtins:\n",
      "\n",
      "abs(x, /)\n",
      "    Return the absolute value of the argument.\n",
      "\n"
     ]
    }
   ],
   "source": [
    "help(abs)"
   ]
  },
  {
   "cell_type": "markdown",
   "metadata": {},
   "source": [
    "# Defining Functions\n",
    "\n",
    "define a function with \n",
    "\n",
    "def *funname*(parameters):\n",
    "return *expression*"
   ]
  },
  {
   "cell_type": "code",
   "execution_count": 36,
   "metadata": {
    "collapsed": true
   },
   "outputs": [],
   "source": [
    "def f(x):\n",
    "    return x**2"
   ]
  },
  {
   "cell_type": "code",
   "execution_count": 37,
   "metadata": {},
   "outputs": [
    {
     "data": {
      "text/plain": [
       "16"
      ]
     },
     "execution_count": 37,
     "metadata": {},
     "output_type": "execute_result"
    }
   ],
   "source": [
    "f(4)"
   ]
  },
  {
   "cell_type": "code",
   "execution_count": 38,
   "metadata": {},
   "outputs": [
    {
     "data": {
      "text/plain": [
       "9"
      ]
     },
     "execution_count": 38,
     "metadata": {},
     "output_type": "execute_result"
    }
   ],
   "source": [
    "result = f(3)\n",
    "result"
   ]
  },
  {
   "cell_type": "code",
   "execution_count": 39,
   "metadata": {},
   "outputs": [
    {
     "data": {
      "text/plain": [
       "12.0"
      ]
     },
     "execution_count": 39,
     "metadata": {},
     "output_type": "execute_result"
    }
   ],
   "source": [
    "def area(base,height):\n",
    "    return base*height/2\n",
    "\n",
    "area(4,6)"
   ]
  },
  {
   "cell_type": "markdown",
   "metadata": {},
   "source": [
    "# Function Calls\n",
    "\n",
    "call a function with \n",
    "\n",
    "function_name(arguments)"
   ]
  },
  {
   "cell_type": "code",
   "execution_count": 40,
   "metadata": {},
   "outputs": [
    {
     "data": {
      "text/plain": [
       "102.0"
      ]
     },
     "execution_count": 40,
     "metadata": {},
     "output_type": "execute_result"
    }
   ],
   "source": [
    "area(12,17)"
   ]
  },
  {
   "cell_type": "markdown",
   "metadata": {},
   "source": [
    "# Strings\n",
    "\n",
    "use '' or \"\" to define a string\n",
    "\\ is escape character\n",
    "can put \" characters inside '' strings without escape; can put ' characters inside \"\" strings without escape."
   ]
  },
  {
   "cell_type": "code",
   "execution_count": 41,
   "metadata": {},
   "outputs": [
    {
     "ename": "SyntaxError",
     "evalue": "EOL while scanning string literal (<ipython-input-41-2636dd1521a6>, line 4)",
     "output_type": "error",
     "traceback": [
      "\u001b[0;36m  File \u001b[0;32m\"<ipython-input-41-2636dd1521a6>\"\u001b[0;36m, line \u001b[0;32m4\u001b[0m\n\u001b[0;31m    escape_string = 'Wow, you\\'re dripping wet!\"\u001b[0m\n\u001b[0m                                                ^\u001b[0m\n\u001b[0;31mSyntaxError\u001b[0m\u001b[0;31m:\u001b[0m EOL while scanning string literal\n"
     ]
    }
   ],
   "source": [
    "storm_greeting = \"Wow, you're dripping wet!\"\n",
    "sunny_greeting = 'What a \"beautiful\" day!'\n",
    "\n",
    "escape_string = 'Wow, you\\'re dripping wet!\""
   ]
  },
  {
   "cell_type": "markdown",
   "metadata": {},
   "source": [
    "Can concatenate strings with + or \\*\n",
    "\n",
    "Any other operators result in TypeError\n",
    "* Can't add strs to ints or floats\n",
    "* Can't multiply strs by floats\n",
    "* Can't multiply strs by strs"
   ]
  },
  {
   "cell_type": "code",
   "execution_count": 42,
   "metadata": {},
   "outputs": [
    {
     "data": {
      "text/plain": [
       "'I wantyour penguins, meow'"
      ]
     },
     "execution_count": 42,
     "metadata": {},
     "output_type": "execute_result"
    }
   ],
   "source": [
    "\"I want\" + \"your penguins, \" + \"meow\""
   ]
  },
  {
   "cell_type": "code",
   "execution_count": 43,
   "metadata": {},
   "outputs": [
    {
     "name": "stdout",
     "output_type": "stream",
     "text": [
      "Steam machine Steam machine Steam machine Steam machine Steam machine Steam machine Steam machine Steam machine Steam machine Steam machine Steam machine Steam machine Steam machine Steam machine Steam machine Steam machine Steam machine Steam machine Steam machine Steam machine Steam machine Steam machine Steam machine Steam machine Steam machine Steam machine Steam machine Steam machine Steam machine Steam machine Steam machine Steam machine Steam machine Steam machine Steam machine Steam machine Steam machine Steam machine Steam machine Steam machine Steam machine Steam machine Steam machine Steam machine Steam machine Steam machine Steam machine Steam machine Steam machine Steam machine \n"
     ]
    }
   ],
   "source": [
    "daft_punk_lyrics = (\"Steam \" + \"machine \")*50\n",
    "print(daft_punk_lyrics)"
   ]
  },
  {
   "cell_type": "code",
   "execution_count": 44,
   "metadata": {},
   "outputs": [
    {
     "ename": "TypeError",
     "evalue": "can't multiply sequence by non-int of type 'float'",
     "output_type": "error",
     "traceback": [
      "\u001b[0;31m---------------------------------------------------------------------------\u001b[0m",
      "\u001b[0;31mTypeError\u001b[0m                                 Traceback (most recent call last)",
      "\u001b[0;32m<ipython-input-44-3a3dea50f597>\u001b[0m in \u001b[0;36m<module>\u001b[0;34m()\u001b[0m\n\u001b[0;32m----> 1\u001b[0;31m \u001b[0;34m\"Hooha\"\u001b[0m \u001b[0;34m*\u001b[0m \u001b[0;36m6.2\u001b[0m\u001b[0;34m\u001b[0m\u001b[0m\n\u001b[0m",
      "\u001b[0;31mTypeError\u001b[0m: can't multiply sequence by non-int of type 'float'"
     ]
    }
   ],
   "source": [
    "\"Hooha\" * 6.2"
   ]
  },
  {
   "cell_type": "code",
   "execution_count": 45,
   "metadata": {},
   "outputs": [
    {
     "ename": "TypeError",
     "evalue": "must be str, not int",
     "output_type": "error",
     "traceback": [
      "\u001b[0;31m---------------------------------------------------------------------------\u001b[0m",
      "\u001b[0;31mTypeError\u001b[0m                                 Traceback (most recent call last)",
      "\u001b[0;32m<ipython-input-45-a4629032d19e>\u001b[0m in \u001b[0;36m<module>\u001b[0;34m()\u001b[0m\n\u001b[0;32m----> 1\u001b[0;31m \u001b[0;34m\"willydilly\"\u001b[0m \u001b[0;34m+\u001b[0m \u001b[0;36m2\u001b[0m\u001b[0;34m\u001b[0m\u001b[0m\n\u001b[0m",
      "\u001b[0;31mTypeError\u001b[0m: must be str, not int"
     ]
    }
   ],
   "source": [
    "\"willydilly\" + 2"
   ]
  },
  {
   "cell_type": "markdown",
   "metadata": {},
   "source": [
    "# Input/Output\n",
    "\n",
    "print(arg1 [,arg2]) - prints a sequence of arguments to (stdout?)\n",
    "\n",
    "input(argument) - argument is called a \"prompt\"\n",
    "                - pauses function until user types newline\n",
    "                - returns the string the user typed.\n",
    "                - always returns string"
   ]
  },
  {
   "cell_type": "code",
   "execution_count": 49,
   "metadata": {},
   "outputs": [
    {
     "name": "stdout",
     "output_type": "stream",
     "text": [
      "hello\n",
      "10\n",
      "hello there\n"
     ]
    }
   ],
   "source": [
    "print(\"hello\")\n",
    "print(3+7)\n",
    "print(\"hello\",\"there\")"
   ]
  },
  {
   "cell_type": "code",
   "execution_count": 50,
   "metadata": {},
   "outputs": [
    {
     "name": "stdout",
     "output_type": "stream",
     "text": [
      "What is your name?Steve\n"
     ]
    },
    {
     "data": {
      "text/plain": [
       "'Steve'"
      ]
     },
     "execution_count": 50,
     "metadata": {},
     "output_type": "execute_result"
    }
   ],
   "source": [
    "input(\"What is your name?\")"
   ]
  },
  {
   "cell_type": "code",
   "execution_count": 51,
   "metadata": {},
   "outputs": [
    {
     "name": "stdout",
     "output_type": "stream",
     "text": [
      "What is your name?steve\n",
      "What is your location?concord\n",
      "steve lives in concord\n"
     ]
    }
   ],
   "source": [
    "name = input(\"What is your name?\")\n",
    "location = input(\"What is your location?\")\n",
    "print(name, \"lives in\", location)\n",
    "\n"
   ]
  },
  {
   "cell_type": "code",
   "execution_count": 52,
   "metadata": {},
   "outputs": [
    {
     "name": "stdout",
     "output_type": "stream",
     "text": [
      "how many cups of coffee?34\n"
     ]
    },
    {
     "data": {
      "text/plain": [
       "'34'"
      ]
     },
     "execution_count": 52,
     "metadata": {},
     "output_type": "execute_result"
    }
   ],
   "source": [
    "string = input(\"how many cups of coffee?\")\n",
    "\n",
    "string"
   ]
  },
  {
   "cell_type": "markdown",
   "metadata": {},
   "source": [
    "**Triple Quote Strings**\n",
    "\n",
    "- can span multiple lines"
   ]
  },
  {
   "cell_type": "code",
   "execution_count": 54,
   "metadata": {},
   "outputs": [
    {
     "name": "stdout",
     "output_type": "stream",
     "text": [
      "how \n",
      "are \n",
      "you?\n"
     ]
    },
    {
     "data": {
      "text/plain": [
       "'how \\nare \\nyou?'"
      ]
     },
     "execution_count": 54,
     "metadata": {},
     "output_type": "execute_result"
    }
   ],
   "source": [
    "print('''how \n",
    "are \n",
    "you?''')\n",
    "\n",
    "s = '''how \n",
    "are \n",
    "you?'''\n",
    "\n",
    "s"
   ]
  },
  {
   "cell_type": "markdown",
   "metadata": {},
   "source": [
    "** Escape Characters **\n",
    "\n",
    "|char|function|\n",
    "|---|---|\n",
    "|\\n|newline|\n",
    "|\\t|tab|\n",
    "|\\\\|print backslash|\n",
    "|\\'|print single quote|\n",
    "|\\\"|print double quotes|"
   ]
  },
  {
   "cell_type": "markdown",
   "metadata": {},
   "source": [
    "# docstrings and function help\n",
    "\n",
    "docstrings are what gets printed when you call help() on a function.\n",
    "\n",
    "you can add your own docstrings by putting quotes directly after the *def* line"
   ]
  },
  {
   "cell_type": "code",
   "execution_count": 56,
   "metadata": {},
   "outputs": [
    {
     "name": "stdout",
     "output_type": "stream",
     "text": [
      "Help on built-in function abs in module builtins:\n",
      "\n",
      "abs(x, /)\n",
      "    Return the absolute value of the argument.\n",
      "\n"
     ]
    }
   ],
   "source": [
    "help(abs)"
   ]
  },
  {
   "cell_type": "code",
   "execution_count": 58,
   "metadata": {},
   "outputs": [
    {
     "name": "stdout",
     "output_type": "stream",
     "text": [
      "Help on function area in module __main__:\n",
      "\n",
      "area(base, height)\n",
      "    (number, number) -> number\n",
      "    \n",
      "    Return the area of a triangle with dimensions base and height.\n",
      "\n"
     ]
    }
   ],
   "source": [
    "def area(base,height):\n",
    "    '''(number, number) -> number\n",
    "    \n",
    "    Return the area of a triangle with dimensions base and height.\n",
    "    '''\n",
    "    return base*height/2\n",
    "\n",
    "help(area)"
   ]
  },
  {
   "cell_type": "markdown",
   "metadata": {},
   "source": [
    "# Function Design\n",
    "\n",
    "The recipe\n",
    "\n",
    "|function line|part name|\n",
    "|---|---|\n",
    "|def area(base,height):|     this is the \"header\"|\n",
    "|    '''(number, number) -> number     |     this is the type contract (inputs, input types, outputs, output types)|\n",
    "|    Return the area of a triangle with dimensions base and height. |    place description and examples here|\n",
    "    |'''| end docstring|\n",
    "    |return base*height/2   |     body of the function|\n",
    "    \n",
    "    \n",
    "    1. think about what your function should do and type examples of how you will use it\n",
    "        a. pick a concise name\n",
    "        examples:\n",
    "            >>> convert_to_celsius(32)\n",
    "            0\n",
    "            >>> convert_to_celsius(12.5)\n",
    "            -7\n",
    "       \n",
    "    2. figure out the type contract  - what types are parameters and returns?\n",
    "    3. type the body\n",
    "    4. test\n",
    "    "
   ]
  },
  {
   "cell_type": "markdown",
   "metadata": {},
   "source": [
    "# Function Reuse\n",
    "\n",
    "DRY - Do not Repeat Yourself. If you notice a part of a function doing exactly the same thing as another function, replace it with that function as it has already been tested and you will avoid errors!\n",
    "\n"
   ]
  },
  {
   "cell_type": "code",
   "execution_count": null,
   "metadata": {
    "collapsed": true
   },
   "outputs": [],
   "source": []
  }
 ],
 "metadata": {
  "kernelspec": {
   "display_name": "Python 3",
   "language": "python",
   "name": "python3"
  },
  "language_info": {
   "codemirror_mode": {
    "name": "ipython",
    "version": 3
   },
   "file_extension": ".py",
   "mimetype": "text/x-python",
   "name": "python",
   "nbconvert_exporter": "python",
   "pygments_lexer": "ipython3",
   "version": "3.6.1"
  }
 },
 "nbformat": 4,
 "nbformat_minor": 2
}
